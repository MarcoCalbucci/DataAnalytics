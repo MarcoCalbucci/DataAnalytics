{
  "nbformat": 4,
  "nbformat_minor": 0,
  "metadata": {
    "colab": {
      "name": "gender_pay_gap.ipynb",
      "provenance": [],
      "collapsed_sections": [
        "te-Bc7e_L31q",
        "dVt8TwuwL7hx"
      ],
      "authorship_tag": "ABX9TyPNoeQ7JQhlViWAt0EMJ9ls",
      "include_colab_link": true
    },
    "kernelspec": {
      "name": "python3",
      "display_name": "Python 3"
    },
    "language_info": {
      "name": "python"
    }
  },
  "cells": [
    {
      "cell_type": "markdown",
      "metadata": {
        "id": "view-in-github",
        "colab_type": "text"
      },
      "source": [
        "<a href=\"https://colab.research.google.com/github/MarcoCalbucci/DataAnalytics/blob/main/Probability_Statistics/Exercises/GenderPayGap/gender_pay_gap.ipynb\" target=\"_parent\"><img src=\"https://colab.research.google.com/assets/colab-badge.svg\" alt=\"Open In Colab\"/></a>"
      ]
    },
    {
      "cell_type": "markdown",
      "source": [
        "**Can we state there is gender pay gap in this company?**\n",
        "\n",
        "The company has more than 5000 employees and we analyse a sample with size 174"
      ],
      "metadata": {
        "id": "-YS6lvFy7dZg"
      }
    },
    {
      "cell_type": "code",
      "source": [
        "import numpy as np\n",
        "import pandas as pd\n",
        "import matplotlib.pyplot as plt\n",
        "from statsmodels.stats.weightstats import ztest\n",
        "from statsmodels.stats.weightstats import ttest_ind"
      ],
      "metadata": {
        "id": "ZfbOZDNG433J"
      },
      "execution_count": 41,
      "outputs": []
    },
    {
      "cell_type": "code",
      "execution_count": 42,
      "metadata": {
        "colab": {
          "base_uri": "https://localhost:8080/",
          "height": 424
        },
        "id": "E9km6Qwm4Iul",
        "outputId": "7de75ea7-7129-400b-cd2a-3757422e0628"
      },
      "outputs": [
        {
          "output_type": "execute_result",
          "data": {
            "text/plain": [
              "        Surname       Name  Age  Gender        Country  \\\n",
              "0          Bold   Caroline   63  Female  United States   \n",
              "1        Zamora   Jennifer   38  Female  United States   \n",
              "2      Houlihan      Debra   51  Female  United States   \n",
              "3      Bramante      Elisa   34  Female  United States   \n",
              "4    Del Bosque      Keyla   38  Female  United States   \n",
              "..          ...        ...  ...     ...            ...   \n",
              "169    Osturnka      Adeel   41    Male  United States   \n",
              "170    Punjabhi      Louis   56    Male  United States   \n",
              "171      Cockel      James   40    Male  United States   \n",
              "172      Gordon      David   38    Male  United States   \n",
              "173       Knapp  Bradley J   40    Male  United States   \n",
              "\n",
              "                     Ethnicity  Start_date            Department  \\\n",
              "0                        White  02/07/2012      Executive Office   \n",
              "1                        White  10/04/2010                 IT/IS   \n",
              "2                        White  05/05/2014                 Sales   \n",
              "3    Black or African American  05/01/2009     Production          \n",
              "4    Black or African American  09/01/2012  Software Engineering   \n",
              "..                         ...         ...                   ...   \n",
              "169                      White  30/09/2013     Production          \n",
              "170                      White  06/01/2014     Production          \n",
              "171                      White  08/07/2013     Production          \n",
              "172                      White  02/07/2012     Production          \n",
              "173  Black or African American  17/02/2014     Production          \n",
              "\n",
              "                    Position    Salary  \n",
              "0            President & CEO  166400.0  \n",
              "1                        CIO  135200.0  \n",
              "2          Director of Sales  124800.0  \n",
              "3     Director of Operations  124800.0  \n",
              "4          Software Engineer  118809.6  \n",
              "..                       ...       ...  \n",
              "169  Production Technician I   33280.0  \n",
              "170  Production Technician I   33280.0  \n",
              "171  Production Technician I   31200.0  \n",
              "172  Production Technician I   31200.0  \n",
              "173  Production Technician I   29120.0  \n",
              "\n",
              "[174 rows x 10 columns]"
            ],
            "text/html": [
              "\n",
              "  <div id=\"df-d4aea14e-dd4d-4312-b488-fa6f1d36e447\">\n",
              "    <div class=\"colab-df-container\">\n",
              "      <div>\n",
              "<style scoped>\n",
              "    .dataframe tbody tr th:only-of-type {\n",
              "        vertical-align: middle;\n",
              "    }\n",
              "\n",
              "    .dataframe tbody tr th {\n",
              "        vertical-align: top;\n",
              "    }\n",
              "\n",
              "    .dataframe thead th {\n",
              "        text-align: right;\n",
              "    }\n",
              "</style>\n",
              "<table border=\"1\" class=\"dataframe\">\n",
              "  <thead>\n",
              "    <tr style=\"text-align: right;\">\n",
              "      <th></th>\n",
              "      <th>Surname</th>\n",
              "      <th>Name</th>\n",
              "      <th>Age</th>\n",
              "      <th>Gender</th>\n",
              "      <th>Country</th>\n",
              "      <th>Ethnicity</th>\n",
              "      <th>Start_date</th>\n",
              "      <th>Department</th>\n",
              "      <th>Position</th>\n",
              "      <th>Salary</th>\n",
              "    </tr>\n",
              "  </thead>\n",
              "  <tbody>\n",
              "    <tr>\n",
              "      <th>0</th>\n",
              "      <td>Bold</td>\n",
              "      <td>Caroline</td>\n",
              "      <td>63</td>\n",
              "      <td>Female</td>\n",
              "      <td>United States</td>\n",
              "      <td>White</td>\n",
              "      <td>02/07/2012</td>\n",
              "      <td>Executive Office</td>\n",
              "      <td>President &amp; CEO</td>\n",
              "      <td>166400.0</td>\n",
              "    </tr>\n",
              "    <tr>\n",
              "      <th>1</th>\n",
              "      <td>Zamora</td>\n",
              "      <td>Jennifer</td>\n",
              "      <td>38</td>\n",
              "      <td>Female</td>\n",
              "      <td>United States</td>\n",
              "      <td>White</td>\n",
              "      <td>10/04/2010</td>\n",
              "      <td>IT/IS</td>\n",
              "      <td>CIO</td>\n",
              "      <td>135200.0</td>\n",
              "    </tr>\n",
              "    <tr>\n",
              "      <th>2</th>\n",
              "      <td>Houlihan</td>\n",
              "      <td>Debra</td>\n",
              "      <td>51</td>\n",
              "      <td>Female</td>\n",
              "      <td>United States</td>\n",
              "      <td>White</td>\n",
              "      <td>05/05/2014</td>\n",
              "      <td>Sales</td>\n",
              "      <td>Director of Sales</td>\n",
              "      <td>124800.0</td>\n",
              "    </tr>\n",
              "    <tr>\n",
              "      <th>3</th>\n",
              "      <td>Bramante</td>\n",
              "      <td>Elisa</td>\n",
              "      <td>34</td>\n",
              "      <td>Female</td>\n",
              "      <td>United States</td>\n",
              "      <td>Black or African American</td>\n",
              "      <td>05/01/2009</td>\n",
              "      <td>Production</td>\n",
              "      <td>Director of Operations</td>\n",
              "      <td>124800.0</td>\n",
              "    </tr>\n",
              "    <tr>\n",
              "      <th>4</th>\n",
              "      <td>Del Bosque</td>\n",
              "      <td>Keyla</td>\n",
              "      <td>38</td>\n",
              "      <td>Female</td>\n",
              "      <td>United States</td>\n",
              "      <td>Black or African American</td>\n",
              "      <td>09/01/2012</td>\n",
              "      <td>Software Engineering</td>\n",
              "      <td>Software Engineer</td>\n",
              "      <td>118809.6</td>\n",
              "    </tr>\n",
              "    <tr>\n",
              "      <th>...</th>\n",
              "      <td>...</td>\n",
              "      <td>...</td>\n",
              "      <td>...</td>\n",
              "      <td>...</td>\n",
              "      <td>...</td>\n",
              "      <td>...</td>\n",
              "      <td>...</td>\n",
              "      <td>...</td>\n",
              "      <td>...</td>\n",
              "      <td>...</td>\n",
              "    </tr>\n",
              "    <tr>\n",
              "      <th>169</th>\n",
              "      <td>Osturnka</td>\n",
              "      <td>Adeel</td>\n",
              "      <td>41</td>\n",
              "      <td>Male</td>\n",
              "      <td>United States</td>\n",
              "      <td>White</td>\n",
              "      <td>30/09/2013</td>\n",
              "      <td>Production</td>\n",
              "      <td>Production Technician I</td>\n",
              "      <td>33280.0</td>\n",
              "    </tr>\n",
              "    <tr>\n",
              "      <th>170</th>\n",
              "      <td>Punjabhi</td>\n",
              "      <td>Louis</td>\n",
              "      <td>56</td>\n",
              "      <td>Male</td>\n",
              "      <td>United States</td>\n",
              "      <td>White</td>\n",
              "      <td>06/01/2014</td>\n",
              "      <td>Production</td>\n",
              "      <td>Production Technician I</td>\n",
              "      <td>33280.0</td>\n",
              "    </tr>\n",
              "    <tr>\n",
              "      <th>171</th>\n",
              "      <td>Cockel</td>\n",
              "      <td>James</td>\n",
              "      <td>40</td>\n",
              "      <td>Male</td>\n",
              "      <td>United States</td>\n",
              "      <td>White</td>\n",
              "      <td>08/07/2013</td>\n",
              "      <td>Production</td>\n",
              "      <td>Production Technician I</td>\n",
              "      <td>31200.0</td>\n",
              "    </tr>\n",
              "    <tr>\n",
              "      <th>172</th>\n",
              "      <td>Gordon</td>\n",
              "      <td>David</td>\n",
              "      <td>38</td>\n",
              "      <td>Male</td>\n",
              "      <td>United States</td>\n",
              "      <td>White</td>\n",
              "      <td>02/07/2012</td>\n",
              "      <td>Production</td>\n",
              "      <td>Production Technician I</td>\n",
              "      <td>31200.0</td>\n",
              "    </tr>\n",
              "    <tr>\n",
              "      <th>173</th>\n",
              "      <td>Knapp</td>\n",
              "      <td>Bradley J</td>\n",
              "      <td>40</td>\n",
              "      <td>Male</td>\n",
              "      <td>United States</td>\n",
              "      <td>Black or African American</td>\n",
              "      <td>17/02/2014</td>\n",
              "      <td>Production</td>\n",
              "      <td>Production Technician I</td>\n",
              "      <td>29120.0</td>\n",
              "    </tr>\n",
              "  </tbody>\n",
              "</table>\n",
              "<p>174 rows × 10 columns</p>\n",
              "</div>\n",
              "      <button class=\"colab-df-convert\" onclick=\"convertToInteractive('df-d4aea14e-dd4d-4312-b488-fa6f1d36e447')\"\n",
              "              title=\"Convert this dataframe to an interactive table.\"\n",
              "              style=\"display:none;\">\n",
              "        \n",
              "  <svg xmlns=\"http://www.w3.org/2000/svg\" height=\"24px\"viewBox=\"0 0 24 24\"\n",
              "       width=\"24px\">\n",
              "    <path d=\"M0 0h24v24H0V0z\" fill=\"none\"/>\n",
              "    <path d=\"M18.56 5.44l.94 2.06.94-2.06 2.06-.94-2.06-.94-.94-2.06-.94 2.06-2.06.94zm-11 1L8.5 8.5l.94-2.06 2.06-.94-2.06-.94L8.5 2.5l-.94 2.06-2.06.94zm10 10l.94 2.06.94-2.06 2.06-.94-2.06-.94-.94-2.06-.94 2.06-2.06.94z\"/><path d=\"M17.41 7.96l-1.37-1.37c-.4-.4-.92-.59-1.43-.59-.52 0-1.04.2-1.43.59L10.3 9.45l-7.72 7.72c-.78.78-.78 2.05 0 2.83L4 21.41c.39.39.9.59 1.41.59.51 0 1.02-.2 1.41-.59l7.78-7.78 2.81-2.81c.8-.78.8-2.07 0-2.86zM5.41 20L4 18.59l7.72-7.72 1.47 1.35L5.41 20z\"/>\n",
              "  </svg>\n",
              "      </button>\n",
              "      \n",
              "  <style>\n",
              "    .colab-df-container {\n",
              "      display:flex;\n",
              "      flex-wrap:wrap;\n",
              "      gap: 12px;\n",
              "    }\n",
              "\n",
              "    .colab-df-convert {\n",
              "      background-color: #E8F0FE;\n",
              "      border: none;\n",
              "      border-radius: 50%;\n",
              "      cursor: pointer;\n",
              "      display: none;\n",
              "      fill: #1967D2;\n",
              "      height: 32px;\n",
              "      padding: 0 0 0 0;\n",
              "      width: 32px;\n",
              "    }\n",
              "\n",
              "    .colab-df-convert:hover {\n",
              "      background-color: #E2EBFA;\n",
              "      box-shadow: 0px 1px 2px rgba(60, 64, 67, 0.3), 0px 1px 3px 1px rgba(60, 64, 67, 0.15);\n",
              "      fill: #174EA6;\n",
              "    }\n",
              "\n",
              "    [theme=dark] .colab-df-convert {\n",
              "      background-color: #3B4455;\n",
              "      fill: #D2E3FC;\n",
              "    }\n",
              "\n",
              "    [theme=dark] .colab-df-convert:hover {\n",
              "      background-color: #434B5C;\n",
              "      box-shadow: 0px 1px 3px 1px rgba(0, 0, 0, 0.15);\n",
              "      filter: drop-shadow(0px 1px 2px rgba(0, 0, 0, 0.3));\n",
              "      fill: #FFFFFF;\n",
              "    }\n",
              "  </style>\n",
              "\n",
              "      <script>\n",
              "        const buttonEl =\n",
              "          document.querySelector('#df-d4aea14e-dd4d-4312-b488-fa6f1d36e447 button.colab-df-convert');\n",
              "        buttonEl.style.display =\n",
              "          google.colab.kernel.accessAllowed ? 'block' : 'none';\n",
              "\n",
              "        async function convertToInteractive(key) {\n",
              "          const element = document.querySelector('#df-d4aea14e-dd4d-4312-b488-fa6f1d36e447');\n",
              "          const dataTable =\n",
              "            await google.colab.kernel.invokeFunction('convertToInteractive',\n",
              "                                                     [key], {});\n",
              "          if (!dataTable) return;\n",
              "\n",
              "          const docLinkHtml = 'Like what you see? Visit the ' +\n",
              "            '<a target=\"_blank\" href=https://colab.research.google.com/notebooks/data_table.ipynb>data table notebook</a>'\n",
              "            + ' to learn more about interactive tables.';\n",
              "          element.innerHTML = '';\n",
              "          dataTable['output_type'] = 'display_data';\n",
              "          await google.colab.output.renderOutput(dataTable, element);\n",
              "          const docLink = document.createElement('div');\n",
              "          docLink.innerHTML = docLinkHtml;\n",
              "          element.appendChild(docLink);\n",
              "        }\n",
              "      </script>\n",
              "    </div>\n",
              "  </div>\n",
              "  "
            ]
          },
          "metadata": {},
          "execution_count": 42
        }
      ],
      "source": [
        "df = pd.read_csv(\"https://raw.githubusercontent.com/MarcoCalbucci/DataAnalytics/main/Probability_Statistics/Exercises/GenderPayGap/HR_Data.csv\")\n",
        "df"
      ]
    },
    {
      "cell_type": "code",
      "source": [
        "df.info()"
      ],
      "metadata": {
        "colab": {
          "base_uri": "https://localhost:8080/"
        },
        "id": "ocUuPB-j5fYY",
        "outputId": "0e322761-2661-4e40-bcfc-17bdeed1dc74"
      },
      "execution_count": 43,
      "outputs": [
        {
          "output_type": "stream",
          "name": "stdout",
          "text": [
            "<class 'pandas.core.frame.DataFrame'>\n",
            "RangeIndex: 174 entries, 0 to 173\n",
            "Data columns (total 10 columns):\n",
            " #   Column      Non-Null Count  Dtype  \n",
            "---  ------      --------------  -----  \n",
            " 0   Surname     174 non-null    object \n",
            " 1   Name        174 non-null    object \n",
            " 2   Age         174 non-null    int64  \n",
            " 3   Gender      174 non-null    object \n",
            " 4   Country     174 non-null    object \n",
            " 5   Ethnicity   174 non-null    object \n",
            " 6   Start_date  174 non-null    object \n",
            " 7   Department  174 non-null    object \n",
            " 8   Position    174 non-null    object \n",
            " 9   Salary      174 non-null    float64\n",
            "dtypes: float64(1), int64(1), object(8)\n",
            "memory usage: 13.7+ KB\n"
          ]
        }
      ]
    },
    {
      "cell_type": "code",
      "source": [
        "print(f\"# female: {len(df[df['Gender']=='Female'])}\")\n",
        "print(f\"# male: {len(df[df['Gender']=='Male'])}\")"
      ],
      "metadata": {
        "colab": {
          "base_uri": "https://localhost:8080/"
        },
        "id": "GxnLcrHT5t-I",
        "outputId": "94907f72-91ce-4054-8912-c206784e15f2"
      },
      "execution_count": 44,
      "outputs": [
        {
          "output_type": "stream",
          "name": "stdout",
          "text": [
            "# female: 98\n",
            "# male: 76\n"
          ]
        }
      ]
    },
    {
      "cell_type": "code",
      "source": [
        "df_female = df[df['Gender']=='Female']\n",
        "df_male = df[df['Gender']=='Male']"
      ],
      "metadata": {
        "id": "Zfu-AwRm7IFv"
      },
      "execution_count": 45,
      "outputs": []
    },
    {
      "cell_type": "code",
      "source": [
        "df_female['Salary'].mean()"
      ],
      "metadata": {
        "colab": {
          "base_uri": "https://localhost:8080/"
        },
        "id": "uXcOwAFU8Mcn",
        "outputId": "ffd2668c-ddf4-40e2-c6a6-7735e7af7543"
      },
      "execution_count": 46,
      "outputs": [
        {
          "output_type": "execute_result",
          "data": {
            "text/plain": [
              "65736.91428571429"
            ]
          },
          "metadata": {},
          "execution_count": 46
        }
      ]
    },
    {
      "cell_type": "code",
      "source": [
        "df_male['Salary'].mean()"
      ],
      "metadata": {
        "colab": {
          "base_uri": "https://localhost:8080/"
        },
        "id": "fkajWo4y-Xdu",
        "outputId": "f3873854-1d72-45b9-c89c-cc6723f0d70d"
      },
      "execution_count": 47,
      "outputs": [
        {
          "output_type": "execute_result",
          "data": {
            "text/plain": [
              "72300.52631578948"
            ]
          },
          "metadata": {},
          "execution_count": 47
        }
      ]
    },
    {
      "cell_type": "code",
      "source": [
        "plt.hist(df_female['Salary'], bins=20, edgecolor='black', label='female')\n",
        "plt.hist(df_male['Salary'], bins=20, edgecolor='black', label='male')\n",
        "plt.legend()\n",
        "plt.show()"
      ],
      "metadata": {
        "colab": {
          "base_uri": "https://localhost:8080/",
          "height": 265
        },
        "id": "C3NXjZpr_kkO",
        "outputId": "241f0fc1-e061-4470-a204-2fd03c50ec64"
      },
      "execution_count": 48,
      "outputs": [
        {
          "output_type": "display_data",
          "data": {
            "text/plain": [
              "<Figure size 432x288 with 1 Axes>"
            ],
            "image/png": "[encoded data removed]"
          },
          "metadata": {
            "needs_background": "light"
          }
        }
      ]
    },
    {
      "cell_type": "markdown",
      "source": [
        "#### **Hypothesis testing**\n",
        "Null hypothesis: $μ_{m}-\\mu_{f} = 0$\n",
        "\n",
        "Alternative hypothesis: $μ_{m}-\\mu_{f} > 0$"
      ],
      "metadata": {
        "id": "vKFYygC78DBG"
      }
    },
    {
      "cell_type": "markdown",
      "source": [
        "##### Overall"
      ],
      "metadata": {
        "id": "3Y9eM2mYLwLK"
      }
    },
    {
      "cell_type": "code",
      "source": [
        "alpha = 0.05\n",
        "\n",
        "# two sample test\n",
        "t_score, p_value, _ = ttest_ind(x1=df_male['Salary'], x2=df_female['Salary'], value=0, alternative='larger')\n",
        "print(f\"t_score: {np.round(t_score, 2)}, p_value: {np.round(p_value, 2)}\")\n",
        "\n",
        "print(\"Reject null hypotesis\") if (p_value < alpha) else print(\"Fail to reject null hypotesis\")\n"
      ],
      "metadata": {
        "colab": {
          "base_uri": "https://localhost:8080/"
        },
        "id": "vcC8HrZvEK1t",
        "outputId": "7576de44-d171-42b6-9875-e3d2bf5698db"
      },
      "execution_count": 49,
      "outputs": [
        {
          "output_type": "stream",
          "name": "stdout",
          "text": [
            "z_score: 1.26, p_value: 0.1\n",
            "Fail to reject null hypotesis\n"
          ]
        }
      ]
    },
    {
      "cell_type": "markdown",
      "source": [
        "##### Below 35 years"
      ],
      "metadata": {
        "id": "te-Bc7e_L31q"
      }
    },
    {
      "cell_type": "code",
      "source": [
        "alpha = 0.05\n",
        "sample_male_below_35 = df_male.loc[df_male['Age']<=35, 'Salary']\n",
        "sample_female_below_35 = df_female.loc[df_female['Age']<=35, 'Salary']\n",
        "\n",
        "\n",
        "# two sample test\n",
        "t_score, p_value, _ = ttest_ind(x1=sample_male_below_35, x2=sample_female_below_35, value=0, alternative='larger')\n",
        "print(f\"t_score: {np.round(t_score, 2)}, p_value: {np.round(p_value, 2)}\")\n",
        "\n",
        "print(\"Reject null hypotesis\") if (p_value < alpha) else print(\"Fail to reject null hypotesis\")"
      ],
      "metadata": {
        "colab": {
          "base_uri": "https://localhost:8080/"
        },
        "id": "J8VwVF5fL20x",
        "outputId": "9d8f67d4-b5fa-42d7-ed7e-e12f19376cba"
      },
      "execution_count": 52,
      "outputs": [
        {
          "output_type": "stream",
          "name": "stdout",
          "text": [
            "z_score: 0.26, p_value: 0.4\n",
            "Fail to reject null hypotesis\n"
          ]
        }
      ]
    },
    {
      "cell_type": "markdown",
      "source": [
        "##### Above 35 years"
      ],
      "metadata": {
        "id": "dVt8TwuwL7hx"
      }
    },
    {
      "cell_type": "code",
      "source": [
        "alpha = 0.05\n",
        "sample_male_above_35 = df_male.loc[df_male['Age']>35, 'Salary']\n",
        "sample_female_above_35 = df_female.loc[df_female['Age']>35, 'Salary']\n",
        "\n",
        "\n",
        "# two sample test\n",
        "t_score, p_value, _ = ttest_ind(x1=sample_male_above_35, x2=sample_female_above_35, value=0, alternative='larger')\n",
        "print(f\"t_score: {np.round(t_score, 2)}, p_value: {np.round(p_value, 2)}\")\n",
        "\n",
        "print(\"Reject null hypotesis\") if (p_value < alpha) else print(\"Fail to reject null hypotesis\")"
      ],
      "metadata": {
        "colab": {
          "base_uri": "https://localhost:8080/"
        },
        "id": "9_AoeP0MQ77o",
        "outputId": "14455090-deab-46cf-a9de-44d811f8d971"
      },
      "execution_count": 55,
      "outputs": [
        {
          "output_type": "stream",
          "name": "stdout",
          "text": [
            "t_score: 1.43, p_value: 0.08\n",
            "Fail to reject null hypotesis\n"
          ]
        }
      ]
    }
  ]
}